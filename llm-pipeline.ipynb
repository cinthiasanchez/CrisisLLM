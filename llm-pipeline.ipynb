{
 "cells": [
  {
   "cell_type": "code",
   "execution_count": 1,
   "metadata": {},
   "outputs": [
    {
     "name": "stderr",
     "output_type": "stream",
     "text": [
      "/home/cisanche/miniconda3/envs/llm/lib/python3.8/site-packages/tqdm/auto.py:21: TqdmWarning: IProgress not found. Please update jupyter and ipywidgets. See https://ipywidgets.readthedocs.io/en/stable/user_install.html\n",
      "  from .autonotebook import tqdm as notebook_tqdm\n",
      "/home/cisanche/miniconda3/envs/llm/lib/python3.8/site-packages/transformers/utils/generic.py:441: UserWarning: torch.utils._pytree._register_pytree_node is deprecated. Please use torch.utils._pytree.register_pytree_node instead.\n",
      "  _torch_pytree._register_pytree_node(\n",
      "/home/cisanche/miniconda3/envs/llm/lib/python3.8/site-packages/transformers/utils/generic.py:309: UserWarning: torch.utils._pytree._register_pytree_node is deprecated. Please use torch.utils._pytree.register_pytree_node instead.\n",
      "  _torch_pytree._register_pytree_node(\n"
     ]
    }
   ],
   "source": [
    "from llm_datasets import LLMDatabaseBuilder\n",
    "from tune import LLMTuner\n",
    "from utils import load_yaml\n",
    "import textwrap"
   ]
  },
  {
   "cell_type": "code",
   "execution_count": 2,
   "metadata": {},
   "outputs": [],
   "source": [
    "settings = load_yaml('server.config.yml')"
   ]
  },
  {
   "cell_type": "code",
   "execution_count": 3,
   "metadata": {},
   "outputs": [
    {
     "data": {
      "text/plain": [
       "'You are a {model}. {task}: {categories_description} The tweet text is delimited with triple backticks.'"
      ]
     },
     "execution_count": 3,
     "metadata": {},
     "output_type": "execute_result"
    }
   ],
   "source": [
    "dataset = LLMDatabaseBuilder(settings)\n",
    "dataset.promt_base"
   ]
  },
  {
   "cell_type": "code",
   "execution_count": 4,
   "metadata": {},
   "outputs": [
    {
     "name": "stdout",
     "output_type": "stream",
     "text": [
      "<s>[INST] <<SYS>> You are a social media message classifier. Your task is to categorize a tweet posted during crisis\n",
      "events as one of the following humanitarian categories: - Affected individuals: information about deaths, injuries,\n",
      "missing, trapped, found or displaced people, including personal updates about oneself, family, or others. -\n",
      "Infrastructure and utilities: information about buildings, roads, utilities/services that are damaged, interrupted,\n",
      "restored or operational. - Donations and volunteering: information about needs, requests, queries or offers of money,\n",
      "blood, shelter, supplies (e.g., food, water, clothing, medical supplies) and/or services by volunteers or professionals.\n",
      "- Caution and advice: information about warnings issued or lifted, guidance and tips. - Sympathy and support: thoughts,\n",
      "prayers, gratitude, sadness, etc. - Other useful information: information NOT covered by any of the above categories. It\n",
      "considers information about fire line/emergency location, flood level, earthquake magnitude, weather, wind, visibility;\n",
      "smoke, ash; adjunctive and meta discussions; other informative messages; information verification, explanation of\n",
      "particular problems The tweet text is delimited with triple backticks. <</SYS>>  Generate a JSON with the following\n",
      "keys: 'prediction' containing a single predicted category, either \"Affected individuals\", \"Infrastructure and\n",
      "utilities\", \"Donations and volunteering\", \"Caution and advice\", \"Sympathy and support\" or \"Other useful information\",\n",
      "and 'explanation' containing the reason (limited to 100 characters) for the categorization decision. Tweet text:\n",
      "'''Praying for Haiti. Hoping for better news on Hurricane Matthew the next few days.'''  [/INST] {\"prediction\":\n",
      "\"Sympathy and support\", \"explanation\": \"Tweet expresses hope and prayer for a crisis situation.\"} </s>\n"
     ]
    }
   ],
   "source": [
    "dataframe_sample = {\n",
    "    'tweet': 'Praying for Haiti. Hoping for better news on Hurricane Matthew the next few days.',\n",
    "    'task': 'humanitarian', \n",
    "    'explanation': 'Tweet expresses hope and prayer for a crisis situation.',\n",
    "    'label': 'Sympathy and support',\n",
    "}\n",
    "\n",
    "sample = dataset.join_dataframe_and_prompt(dataframe_sample)\n",
    "print(textwrap.fill(sample, width=120))"
   ]
  },
  {
   "cell_type": "code",
   "execution_count": 5,
   "metadata": {},
   "outputs": [],
   "source": [
    "databases = dataset.get_datasets()"
   ]
  },
  {
   "cell_type": "code",
   "execution_count": 6,
   "metadata": {},
   "outputs": [],
   "source": [
    "train, valid = databases"
   ]
  },
  {
   "cell_type": "code",
   "execution_count": 7,
   "metadata": {},
   "outputs": [],
   "source": [
    "settings['train']['batch_size'] = 4\n",
    "settings['train']['max_steps'] = 64"
   ]
  },
  {
   "cell_type": "code",
   "execution_count": 8,
   "metadata": {},
   "outputs": [
    {
     "name": "stderr",
     "output_type": "stream",
     "text": [
      "Loading checkpoint shards: 100%|███████████████████████████████████████████████████████████████████████████████████████████████████████████████████████████████████████████████████████████████████████████████| 2/2 [00:07<00:00,  3.96s/it]\n",
      "/home/cisanche/miniconda3/envs/llm/lib/python3.8/site-packages/transformers/utils/hub.py:374: FutureWarning: The `use_auth_token` argument is deprecated and will be removed in v5 of Transformers. Please use `token` instead.\n",
      "  warnings.warn(\n"
     ]
    }
   ],
   "source": [
    "tuner = LLMTuner(settings)"
   ]
  },
  {
   "cell_type": "code",
   "execution_count": 10,
   "metadata": {},
   "outputs": [
    {
     "name": "stderr",
     "output_type": "stream",
     "text": [
      "You're using a LlamaTokenizerFast tokenizer. Please note that with a fast tokenizer, using the `__call__` method is faster than using a method to encode the text followed by a call to the `pad` method to get a padded encoding.\n",
      "`use_cache=True` is incompatible with gradient checkpointing. Setting `use_cache=False`...\n",
      "/home/cisanche/miniconda3/envs/llm/lib/python3.8/site-packages/torch/utils/checkpoint.py:460: UserWarning: torch.utils.checkpoint: please pass in use_reentrant=True or use_reentrant=False explicitly. The default value of use_reentrant will be updated to be False in the future. To maintain current behavior, pass use_reentrant=True. It is recommended that you use use_reentrant=False. Refer to docs for more details on the differences between the two variants.\n",
      "  warnings.warn(\n"
     ]
    },
    {
     "data": {
      "text/html": [
       "\n",
       "    <div>\n",
       "      \n",
       "      <progress value='64' max='64' style='width:300px; height:20px; vertical-align: middle;'></progress>\n",
       "      [64/64 05:26, Epoch 0/1]\n",
       "    </div>\n",
       "    <table border=\"1\" class=\"dataframe\">\n",
       "  <thead>\n",
       " <tr style=\"text-align: left;\">\n",
       "      <th>Step</th>\n",
       "      <th>Training Loss</th>\n",
       "      <th>Validation Loss</th>\n",
       "    </tr>\n",
       "  </thead>\n",
       "  <tbody>\n",
       "  </tbody>\n",
       "</table><p>"
      ],
      "text/plain": [
       "<IPython.core.display.HTML object>"
      ]
     },
     "metadata": {},
     "output_type": "display_data"
    },
    {
     "name": "stderr",
     "output_type": "stream",
     "text": [
      "/home/cisanche/miniconda3/envs/llm/lib/python3.8/site-packages/peft/utils/save_and_load.py:131: UserWarning: Setting `save_embedding_layers` to `True` as embedding layers found in `target_modules`.\n",
      "  warnings.warn(\"Setting `save_embedding_layers` to `True` as embedding layers found in `target_modules`.\")\n"
     ]
    }
   ],
   "source": [
    "tuner.train(train, valid)"
   ]
  },
  {
   "cell_type": "code",
   "execution_count": null,
   "metadata": {},
   "outputs": [],
   "source": []
  },
  {
   "cell_type": "code",
   "execution_count": null,
   "metadata": {},
   "outputs": [],
   "source": []
  }
 ],
 "metadata": {
  "kernelspec": {
   "display_name": "Python 3 (ipykernel)",
   "language": "python",
   "name": "python3"
  },
  "language_info": {
   "codemirror_mode": {
    "name": "ipython",
    "version": 3
   },
   "file_extension": ".py",
   "mimetype": "text/x-python",
   "name": "python",
   "nbconvert_exporter": "python",
   "pygments_lexer": "ipython3",
   "version": "3.8.18"
  }
 },
 "nbformat": 4,
 "nbformat_minor": 4
}
