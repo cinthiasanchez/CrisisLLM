{
 "cells": [
  {
   "cell_type": "code",
   "execution_count": 27,
   "metadata": {},
   "outputs": [],
   "source": [
    "from llm_datasets import LLMDatabaseBuilder\n",
    "from tune import LLMTuner\n",
    "from utils import load_yaml\n",
    "import textwrap"
   ]
  },
  {
   "cell_type": "code",
   "execution_count": 2,
   "metadata": {},
   "outputs": [],
   "source": [
    "settings = load_yaml('local.config.yml')"
   ]
  },
  {
   "cell_type": "code",
   "execution_count": 3,
   "metadata": {},
   "outputs": [
    {
     "data": {
      "text/plain": [
       "'You are a {model}. {task}: {categories_description} The tweet text is delimited with triple backticks.'"
      ]
     },
     "execution_count": 3,
     "metadata": {},
     "output_type": "execute_result"
    }
   ],
   "source": [
    "dataset = LLMDatabaseBuilder(settings)\n",
    "dataset.promt_base"
   ]
  },
  {
   "cell_type": "code",
   "execution_count": 25,
   "metadata": {},
   "outputs": [
    {
     "name": "stdout",
     "output_type": "stream",
     "text": [
      "<s>[INST] <<SYS>> You are a social media message classifier. Your task is to categorize a tweet posted during crisis\n",
      "events as one of the following humanitarian categories: - Affected individuals: information about deaths, injuries,\n",
      "missing, trapped, found or displaced people, including personal updates about oneself, family, or others. -\n",
      "Infrastructure and utilities: information about buildings, roads, utilities/services that are damaged, interrupted,\n",
      "restored or operational. - Donations and volunteering: information about needs, requests, queries or offers of money,\n",
      "blood, shelter, supplies (e.g., food, water, clothing, medical supplies) and/or services by volunteers or professionals.\n",
      "- Caution and advice: information about warnings issued or lifted, guidance and tips. - Sympathy and support: thoughts,\n",
      "prayers, gratitude, sadness, etc. - Other useful information: information NOT covered by any of the above categories. It\n",
      "considers information about fire line/emergency location, flood level, earthquake magnitude, weather, wind, visibility;\n",
      "smoke, ash; adjunctive and meta discussions; other informative messages; information verification, explanation of\n",
      "particular problems The tweet text is delimited with triple backticks. <</SYS>>  Generate a JSON with the following\n",
      "keys: 'prediction' containing a single predicted category, either \"Affected individuals\", \"Infrastructure and\n",
      "utilities\", \"Donations and volunteering\", \"Caution and advice\", \"Sympathy and support\" or \"Other useful information\",\n",
      "and 'explanation' containing the reason (limited to 100 characters) for the categorization decision. Tweet text:\n",
      "'''Praying for Haiti. Hoping for better news on Hurricane Matthew the next few days.'''  [/INST] {\"prediction\":\n",
      "\"Sympathy and support\", \"explanation\": \"Tweet expresses hope and prayer for a crisis situation.\"} </s>\n"
     ]
    }
   ],
   "source": [
    "dataframe_sample = {\n",
    "    'tweet': 'Praying for Haiti. Hoping for better news on Hurricane Matthew the next few days.',\n",
    "    'task': 'humanitarian', \n",
    "    'explanation': 'Tweet expresses hope and prayer for a crisis situation.',\n",
    "    'label': 'Sympathy and support',\n",
    "}\n",
    "\n",
    "sample = dataset.join_dataframe_and_prompt(dataframe_sample)\n",
    "print(textwrap.fill(sample, width=120))"
   ]
  },
  {
   "cell_type": "code",
   "execution_count": 23,
   "metadata": {},
   "outputs": [],
   "source": [
    "databases = dataset.get_datasets()"
   ]
  },
  {
   "cell_type": "code",
   "execution_count": 26,
   "metadata": {},
   "outputs": [],
   "source": [
    "train, valid = databases"
   ]
  },
  {
   "cell_type": "code",
   "execution_count": null,
   "metadata": {},
   "outputs": [],
   "source": [
    "tuner = LLMTuner(settings)"
   ]
  },
  {
   "cell_type": "code",
   "execution_count": null,
   "metadata": {},
   "outputs": [],
   "source": []
  },
  {
   "cell_type": "code",
   "execution_count": null,
   "metadata": {},
   "outputs": [],
   "source": []
  },
  {
   "cell_type": "code",
   "execution_count": null,
   "metadata": {},
   "outputs": [],
   "source": []
  }
 ],
 "metadata": {
  "kernelspec": {
   "display_name": "llm",
   "language": "python",
   "name": "python3"
  },
  "language_info": {
   "codemirror_mode": {
    "name": "ipython",
    "version": 3
   },
   "file_extension": ".py",
   "mimetype": "text/x-python",
   "name": "python",
   "nbconvert_exporter": "python",
   "pygments_lexer": "ipython3",
   "version": "3.9.18"
  }
 },
 "nbformat": 4,
 "nbformat_minor": 2
}
