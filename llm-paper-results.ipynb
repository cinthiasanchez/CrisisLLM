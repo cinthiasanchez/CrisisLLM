{
 "cells": [
  {
   "cell_type": "code",
   "execution_count": 3,
   "metadata": {},
   "outputs": [],
   "source": [
    "from sklearn.metrics import classification_report\n",
    "import pandas as pd\n",
    "import parsers"
   ]
  },
  {
   "cell_type": "code",
   "execution_count": 4,
   "metadata": {},
   "outputs": [],
   "source": [
    "df = pd.read_csv('llamav2__multitask-k1.csv')\n",
    "df = df.drop(columns=['Unnamed: 0'])"
   ]
  },
  {
   "cell_type": "code",
   "execution_count": 5,
   "metadata": {},
   "outputs": [],
   "source": [
    "def report_results(df, model):\n",
    "    df['prediction-dict'] = df[model].str.lower().map(\n",
    "        lambda x: parsers.cast_str_to_json(x, model)\n",
    "    )\n",
    "    df['prediction'] = df['prediction-dict'].map(parsers.get_prediction)\n",
    "    labels = df['label'].str.lower().unique().tolist()\n",
    "    final = df[df['prediction'].isin(labels)]\n",
    "    print(final.shape, df.shape, f'{(len(final)/len(df)) * 100:.2f}%')\n",
    "    print(classification_report(final['label'].str.lower(), final['prediction']))\n",
    "    return df"
   ]
  },
  {
   "cell_type": "code",
   "execution_count": 6,
   "metadata": {},
   "outputs": [
    {
     "name": "stdout",
     "output_type": "stream",
     "text": [
      "(23371, 5) (23436, 5) 99.72%\n",
      "                              precision    recall  f1-score   support\n",
      "\n",
      "        affected individuals       0.73      0.77      0.75      3541\n",
      "          caution and advice       0.54      0.74      0.62      2985\n",
      "  donations and volunteering       0.85      0.77      0.81      4766\n",
      "infrastructure and utilities       0.73      0.59      0.65      3000\n",
      "    other useful information       0.65      0.57      0.61      5862\n",
      "        sympathy and support       0.76      0.87      0.81      3217\n",
      "\n",
      "                    accuracy                           0.71     23371\n",
      "                   macro avg       0.71      0.72      0.71     23371\n",
      "                weighted avg       0.71      0.71      0.71     23371\n",
      "\n"
     ]
    }
   ],
   "source": [
    "df_parsed = report_results(\n",
    "    df[df['id'].str.contains('humanitarian') == True].copy()\n",
    "    , 'llamav2'\n",
    ")"
   ]
  },
  {
   "cell_type": "code",
   "execution_count": 7,
   "metadata": {},
   "outputs": [
    {
     "name": "stdout",
     "output_type": "stream",
     "text": [
      "(5358, 5) (5884, 5) 91.06%\n",
      "              precision    recall  f1-score   support\n",
      "\n",
      " not related       0.74      0.85      0.79      2374\n",
      "     related       0.86      0.76      0.81      2984\n",
      "\n",
      "    accuracy                           0.80      5358\n",
      "   macro avg       0.80      0.80      0.80      5358\n",
      "weighted avg       0.81      0.80      0.80      5358\n",
      "\n"
     ]
    }
   ],
   "source": [
    "df_parsed = report_results(\n",
    "    df[df['id'].str.contains('relatedness') == True].copy()\n",
    "    , 'llamav2'\n",
    ")"
   ]
  }
 ],
 "metadata": {
  "kernelspec": {
   "display_name": "llm",
   "language": "python",
   "name": "python3"
  },
  "language_info": {
   "codemirror_mode": {
    "name": "ipython",
    "version": 3
   },
   "file_extension": ".py",
   "mimetype": "text/x-python",
   "name": "python",
   "nbconvert_exporter": "python",
   "pygments_lexer": "ipython3",
   "version": "3.9.18"
  }
 },
 "nbformat": 4,
 "nbformat_minor": 2
}
